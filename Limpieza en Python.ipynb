{
 "cells": [
  {
   "cell_type": "code",
   "execution_count": 2,
   "id": "9a9f29a9-34b5-4d0f-a128-3b5e9a697a42",
   "metadata": {},
   "outputs": [],
   "source": [
    "import pandas as pd\n",
    "import numpy as np\n"
   ]
  },
  {
   "cell_type": "markdown",
   "id": "f08d77a4-fc73-42b5-913e-8af7821b5159",
   "metadata": {},
   "source": [
    "1. Leemos el csv ´listing.csv´ y obesevamos su informacion"
   ]
  },
  {
   "cell_type": "code",
   "execution_count": 4,
   "id": "44127817-f085-4a93-a4ee-ea6df37cc2d6",
   "metadata": {},
   "outputs": [],
   "source": [
    "df = pd.read_csv('listings.csv')"
   ]
  },
  {
   "cell_type": "code",
   "execution_count": 5,
   "id": "b35854d6-2d13-4487-8a85-90243de922fa",
   "metadata": {},
   "outputs": [
    {
     "name": "stdout",
     "output_type": "stream",
     "text": [
      "<class 'pandas.core.frame.DataFrame'>\n",
      "RangeIndex: 35172 entries, 0 to 35171\n",
      "Data columns (total 18 columns):\n",
      " #   Column                          Non-Null Count  Dtype  \n",
      "---  ------                          --------------  -----  \n",
      " 0   id                              35172 non-null  int64  \n",
      " 1   name                            35172 non-null  object \n",
      " 2   host_id                         35172 non-null  int64  \n",
      " 3   host_name                       35166 non-null  object \n",
      " 4   neighbourhood_group             0 non-null      float64\n",
      " 5   neighbourhood                   35172 non-null  object \n",
      " 6   latitude                        35172 non-null  float64\n",
      " 7   longitude                       35172 non-null  float64\n",
      " 8   room_type                       35172 non-null  object \n",
      " 9   price                           31598 non-null  float64\n",
      " 10  minimum_nights                  35172 non-null  int64  \n",
      " 11  number_of_reviews               35172 non-null  int64  \n",
      " 12  last_review                     29412 non-null  object \n",
      " 13  reviews_per_month               29412 non-null  float64\n",
      " 14  calculated_host_listings_count  35172 non-null  int64  \n",
      " 15  availability_365                35172 non-null  int64  \n",
      " 16  number_of_reviews_ltm           35172 non-null  int64  \n",
      " 17  license                         390 non-null    object \n",
      "dtypes: float64(5), int64(7), object(6)\n",
      "memory usage: 4.8+ MB\n"
     ]
    }
   ],
   "source": [
    "df.info()"
   ]
  },
  {
   "cell_type": "code",
   "execution_count": 8,
   "id": "9e4adf10-299e-4b28-b301-8823b8acbee1",
   "metadata": {
    "scrolled": true
   },
   "outputs": [
    {
     "data": {
      "text/html": [
       "<div>\n",
       "<style scoped>\n",
       "    .dataframe tbody tr th:only-of-type {\n",
       "        vertical-align: middle;\n",
       "    }\n",
       "\n",
       "    .dataframe tbody tr th {\n",
       "        vertical-align: top;\n",
       "    }\n",
       "\n",
       "    .dataframe thead th {\n",
       "        text-align: right;\n",
       "    }\n",
       "</style>\n",
       "<table border=\"1\" class=\"dataframe\">\n",
       "  <thead>\n",
       "    <tr style=\"text-align: right;\">\n",
       "      <th></th>\n",
       "      <th>id</th>\n",
       "      <th>name</th>\n",
       "      <th>host_id</th>\n",
       "      <th>host_name</th>\n",
       "      <th>neighbourhood_group</th>\n",
       "      <th>neighbourhood</th>\n",
       "      <th>latitude</th>\n",
       "      <th>longitude</th>\n",
       "      <th>room_type</th>\n",
       "      <th>price</th>\n",
       "      <th>minimum_nights</th>\n",
       "      <th>number_of_reviews</th>\n",
       "      <th>last_review</th>\n",
       "      <th>reviews_per_month</th>\n",
       "      <th>calculated_host_listings_count</th>\n",
       "      <th>availability_365</th>\n",
       "      <th>number_of_reviews_ltm</th>\n",
       "      <th>license</th>\n",
       "    </tr>\n",
       "  </thead>\n",
       "  <tbody>\n",
       "    <tr>\n",
       "      <th>0</th>\n",
       "      <td>11508</td>\n",
       "      <td>Amazing Luxurious Apt-Palermo Soho</td>\n",
       "      <td>42762</td>\n",
       "      <td>Candela</td>\n",
       "      <td>NaN</td>\n",
       "      <td>Palermo</td>\n",
       "      <td>-34.581840</td>\n",
       "      <td>-58.424150</td>\n",
       "      <td>Entire home/apt</td>\n",
       "      <td>67518.0</td>\n",
       "      <td>3</td>\n",
       "      <td>44</td>\n",
       "      <td>2025-01-26</td>\n",
       "      <td>0.29</td>\n",
       "      <td>1</td>\n",
       "      <td>300</td>\n",
       "      <td>5</td>\n",
       "      <td>NaN</td>\n",
       "    </tr>\n",
       "    <tr>\n",
       "      <th>1</th>\n",
       "      <td>14222</td>\n",
       "      <td>RELAX IN HAPPY HOUSE - PALERMO, BUENOS AIRES</td>\n",
       "      <td>87710233</td>\n",
       "      <td>María</td>\n",
       "      <td>NaN</td>\n",
       "      <td>Palermo</td>\n",
       "      <td>-34.586170</td>\n",
       "      <td>-58.410360</td>\n",
       "      <td>Entire home/apt</td>\n",
       "      <td>22375.0</td>\n",
       "      <td>7</td>\n",
       "      <td>123</td>\n",
       "      <td>2025-01-18</td>\n",
       "      <td>0.80</td>\n",
       "      <td>6</td>\n",
       "      <td>44</td>\n",
       "      <td>8</td>\n",
       "      <td>NaN</td>\n",
       "    </tr>\n",
       "    <tr>\n",
       "      <th>2</th>\n",
       "      <td>15074</td>\n",
       "      <td>ROOM WITH RIVER SIGHT</td>\n",
       "      <td>59338</td>\n",
       "      <td>Monica</td>\n",
       "      <td>NaN</td>\n",
       "      <td>Nuñez</td>\n",
       "      <td>-34.538920</td>\n",
       "      <td>-58.465990</td>\n",
       "      <td>Private room</td>\n",
       "      <td>NaN</td>\n",
       "      <td>29</td>\n",
       "      <td>0</td>\n",
       "      <td>NaN</td>\n",
       "      <td>NaN</td>\n",
       "      <td>1</td>\n",
       "      <td>0</td>\n",
       "      <td>0</td>\n",
       "      <td>NaN</td>\n",
       "    </tr>\n",
       "    <tr>\n",
       "      <th>3</th>\n",
       "      <td>16695</td>\n",
       "      <td>DUPLEX LOFT 2 - SAN TELMO</td>\n",
       "      <td>64880</td>\n",
       "      <td>Elbio Mariano</td>\n",
       "      <td>NaN</td>\n",
       "      <td>Monserrat</td>\n",
       "      <td>-34.614390</td>\n",
       "      <td>-58.376110</td>\n",
       "      <td>Entire home/apt</td>\n",
       "      <td>52511.0</td>\n",
       "      <td>2</td>\n",
       "      <td>45</td>\n",
       "      <td>2019-11-30</td>\n",
       "      <td>0.27</td>\n",
       "      <td>9</td>\n",
       "      <td>365</td>\n",
       "      <td>0</td>\n",
       "      <td>NaN</td>\n",
       "    </tr>\n",
       "    <tr>\n",
       "      <th>4</th>\n",
       "      <td>20062</td>\n",
       "      <td>PENTHOUSE /Terrace &amp; pool /City views /2bedrooms</td>\n",
       "      <td>75891</td>\n",
       "      <td>Sergio</td>\n",
       "      <td>NaN</td>\n",
       "      <td>Palermo</td>\n",
       "      <td>-34.581848</td>\n",
       "      <td>-58.441605</td>\n",
       "      <td>Entire home/apt</td>\n",
       "      <td>113360.0</td>\n",
       "      <td>2</td>\n",
       "      <td>330</td>\n",
       "      <td>2025-01-17</td>\n",
       "      <td>1.84</td>\n",
       "      <td>4</td>\n",
       "      <td>209</td>\n",
       "      <td>25</td>\n",
       "      <td>NaN</td>\n",
       "    </tr>\n",
       "  </tbody>\n",
       "</table>\n",
       "</div>"
      ],
      "text/plain": [
       "      id                                              name   host_id  \\\n",
       "0  11508                Amazing Luxurious Apt-Palermo Soho     42762   \n",
       "1  14222      RELAX IN HAPPY HOUSE - PALERMO, BUENOS AIRES  87710233   \n",
       "2  15074                             ROOM WITH RIVER SIGHT     59338   \n",
       "3  16695                         DUPLEX LOFT 2 - SAN TELMO     64880   \n",
       "4  20062  PENTHOUSE /Terrace & pool /City views /2bedrooms     75891   \n",
       "\n",
       "       host_name  neighbourhood_group neighbourhood   latitude  longitude  \\\n",
       "0        Candela                  NaN       Palermo -34.581840 -58.424150   \n",
       "1          María                  NaN       Palermo -34.586170 -58.410360   \n",
       "2         Monica                  NaN         Nuñez -34.538920 -58.465990   \n",
       "3  Elbio Mariano                  NaN     Monserrat -34.614390 -58.376110   \n",
       "4         Sergio                  NaN       Palermo -34.581848 -58.441605   \n",
       "\n",
       "         room_type     price  minimum_nights  number_of_reviews last_review  \\\n",
       "0  Entire home/apt   67518.0               3                 44  2025-01-26   \n",
       "1  Entire home/apt   22375.0               7                123  2025-01-18   \n",
       "2     Private room       NaN              29                  0         NaN   \n",
       "3  Entire home/apt   52511.0               2                 45  2019-11-30   \n",
       "4  Entire home/apt  113360.0               2                330  2025-01-17   \n",
       "\n",
       "   reviews_per_month  calculated_host_listings_count  availability_365  \\\n",
       "0               0.29                               1               300   \n",
       "1               0.80                               6                44   \n",
       "2                NaN                               1                 0   \n",
       "3               0.27                               9               365   \n",
       "4               1.84                               4               209   \n",
       "\n",
       "   number_of_reviews_ltm license  \n",
       "0                      5     NaN  \n",
       "1                      8     NaN  \n",
       "2                      0     NaN  \n",
       "3                      0     NaN  \n",
       "4                     25     NaN  "
      ]
     },
     "execution_count": 8,
     "metadata": {},
     "output_type": "execute_result"
    }
   ],
   "source": [
    "df.head(5)"
   ]
  },
  {
   "cell_type": "markdown",
   "id": "944109f8-2e87-46ff-80f3-d749211c8a96",
   "metadata": {},
   "source": [
    "Identifico que columnas deseo mantener para el futuro analisis:\n",
    "1. id\n",
    "2. neighbourhood\n",
    "3. latitude\n",
    "4. longitude\n",
    "5. roomtype\n",
    "6. price\n",
    "7. minimum_nights\n",
    "8. number of reviews"
   ]
  },
  {
   "cell_type": "markdown",
   "id": "f50f9d3d-1f93-4b3b-9cb8-4f59785b80ac",
   "metadata": {},
   "source": [
    "Identifico subcategorias de la categoria 'neighbourhood' para obtener mas información"
   ]
  },
  {
   "cell_type": "code",
   "execution_count": 49,
   "id": "10908849-e739-4b86-b95e-17c29e6f353a",
   "metadata": {},
   "outputs": [
    {
     "data": {
      "text/plain": [
       "array(['Palermo', 'Nuñez', 'Monserrat', 'Constitucion', 'San Nicolas',\n",
       "       'Chacarita', 'Recoleta', 'Belgrano', 'Retiro', 'San Telmo',\n",
       "       'Boedo', 'Colegiales', 'Almagro', 'Balvanera', 'Puerto Madero',\n",
       "       'Caballito', 'Parque Chacabuco', 'Villa Crespo', 'Villa Urquiza',\n",
       "       'Coghlan', 'Parque Patricios', 'San Cristobal', 'Boca',\n",
       "       'Villa Luro', 'Villa Devoto', 'Flores', 'Monte Castro',\n",
       "       'Villa Ortuzar', 'Villa Gral. Mitre', 'Barracas', 'Saavedra',\n",
       "       'Villa Del Parque', 'Floresta', 'Villa Pueyrredon', 'Paternal',\n",
       "       'Villa Santa Rita', 'Velez Sarsfield', 'Parque Avellaneda',\n",
       "       'Villa Real', 'Parque Chas', 'Villa Lugano', 'Agronomia',\n",
       "       'Mataderos', 'Versalles', 'Liniers', 'Nueva Pompeya',\n",
       "       'Villa Riachuelo', 'Villa Soldati'], dtype=object)"
      ]
     },
     "execution_count": 49,
     "metadata": {},
     "output_type": "execute_result"
    }
   ],
   "source": [
    "df['neighbourhood'].unique()"
   ]
  },
  {
   "cell_type": "markdown",
   "id": "4cb880bf-0f42-4789-9e3c-12bb2823e67a",
   "metadata": {},
   "source": [
    "Leo el Segundo csv 'calendar.csv' y aplico lo mismo."
   ]
  },
  {
   "cell_type": "code",
   "execution_count": 54,
   "id": "23529dbf-f2ef-41d0-908e-cc85f83598ae",
   "metadata": {},
   "outputs": [],
   "source": [
    "df2= pd.read_csv('calendar.csv')"
   ]
  },
  {
   "cell_type": "code",
   "execution_count": 53,
   "id": "f3ceec53-eaa8-4dcc-911e-2e08833d23c7",
   "metadata": {},
   "outputs": [
    {
     "name": "stdout",
     "output_type": "stream",
     "text": [
      "<class 'pandas.core.frame.DataFrame'>\n",
      "RangeIndex: 12837777 entries, 0 to 12837776\n",
      "Data columns (total 7 columns):\n",
      " #   Column          Dtype  \n",
      "---  ------          -----  \n",
      " 0   listing_id      int64  \n",
      " 1   date            object \n",
      " 2   available       object \n",
      " 3   price           object \n",
      " 4   adjusted_price  float64\n",
      " 5   minimum_nights  float64\n",
      " 6   maximum_nights  float64\n",
      "dtypes: float64(3), int64(1), object(3)\n",
      "memory usage: 685.6+ MB\n"
     ]
    }
   ],
   "source": [
    "df2.info()"
   ]
  },
  {
   "cell_type": "code",
   "execution_count": 56,
   "id": "5904c93d-72bb-4fec-bcbc-9ec0995ed44d",
   "metadata": {},
   "outputs": [
    {
     "data": {
      "text/html": [
       "<div>\n",
       "<style scoped>\n",
       "    .dataframe tbody tr th:only-of-type {\n",
       "        vertical-align: middle;\n",
       "    }\n",
       "\n",
       "    .dataframe tbody tr th {\n",
       "        vertical-align: top;\n",
       "    }\n",
       "\n",
       "    .dataframe thead th {\n",
       "        text-align: right;\n",
       "    }\n",
       "</style>\n",
       "<table border=\"1\" class=\"dataframe\">\n",
       "  <thead>\n",
       "    <tr style=\"text-align: right;\">\n",
       "      <th></th>\n",
       "      <th>listing_id</th>\n",
       "      <th>date</th>\n",
       "      <th>available</th>\n",
       "      <th>price</th>\n",
       "      <th>adjusted_price</th>\n",
       "      <th>minimum_nights</th>\n",
       "      <th>maximum_nights</th>\n",
       "    </tr>\n",
       "  </thead>\n",
       "  <tbody>\n",
       "    <tr>\n",
       "      <th>0</th>\n",
       "      <td>11508</td>\n",
       "      <td>2025-01-30</td>\n",
       "      <td>f</td>\n",
       "      <td>$60.00</td>\n",
       "      <td>NaN</td>\n",
       "      <td>3.0</td>\n",
       "      <td>1125.0</td>\n",
       "    </tr>\n",
       "    <tr>\n",
       "      <th>1</th>\n",
       "      <td>11508</td>\n",
       "      <td>2025-01-31</td>\n",
       "      <td>f</td>\n",
       "      <td>$60.00</td>\n",
       "      <td>NaN</td>\n",
       "      <td>3.0</td>\n",
       "      <td>1125.0</td>\n",
       "    </tr>\n",
       "    <tr>\n",
       "      <th>2</th>\n",
       "      <td>11508</td>\n",
       "      <td>2025-02-01</td>\n",
       "      <td>f</td>\n",
       "      <td>$60.00</td>\n",
       "      <td>NaN</td>\n",
       "      <td>3.0</td>\n",
       "      <td>1125.0</td>\n",
       "    </tr>\n",
       "    <tr>\n",
       "      <th>3</th>\n",
       "      <td>11508</td>\n",
       "      <td>2025-02-02</td>\n",
       "      <td>f</td>\n",
       "      <td>$60.00</td>\n",
       "      <td>NaN</td>\n",
       "      <td>3.0</td>\n",
       "      <td>1125.0</td>\n",
       "    </tr>\n",
       "    <tr>\n",
       "      <th>4</th>\n",
       "      <td>11508</td>\n",
       "      <td>2025-02-03</td>\n",
       "      <td>f</td>\n",
       "      <td>$60.00</td>\n",
       "      <td>NaN</td>\n",
       "      <td>3.0</td>\n",
       "      <td>1125.0</td>\n",
       "    </tr>\n",
       "    <tr>\n",
       "      <th>5</th>\n",
       "      <td>11508</td>\n",
       "      <td>2025-02-04</td>\n",
       "      <td>f</td>\n",
       "      <td>$60.00</td>\n",
       "      <td>NaN</td>\n",
       "      <td>3.0</td>\n",
       "      <td>1125.0</td>\n",
       "    </tr>\n",
       "    <tr>\n",
       "      <th>6</th>\n",
       "      <td>11508</td>\n",
       "      <td>2025-02-05</td>\n",
       "      <td>f</td>\n",
       "      <td>$60.00</td>\n",
       "      <td>NaN</td>\n",
       "      <td>3.0</td>\n",
       "      <td>1125.0</td>\n",
       "    </tr>\n",
       "    <tr>\n",
       "      <th>7</th>\n",
       "      <td>11508</td>\n",
       "      <td>2025-02-06</td>\n",
       "      <td>f</td>\n",
       "      <td>$60.00</td>\n",
       "      <td>NaN</td>\n",
       "      <td>3.0</td>\n",
       "      <td>1125.0</td>\n",
       "    </tr>\n",
       "    <tr>\n",
       "      <th>8</th>\n",
       "      <td>11508</td>\n",
       "      <td>2025-02-07</td>\n",
       "      <td>f</td>\n",
       "      <td>$60.00</td>\n",
       "      <td>NaN</td>\n",
       "      <td>3.0</td>\n",
       "      <td>1125.0</td>\n",
       "    </tr>\n",
       "    <tr>\n",
       "      <th>9</th>\n",
       "      <td>11508</td>\n",
       "      <td>2025-02-08</td>\n",
       "      <td>f</td>\n",
       "      <td>$60.00</td>\n",
       "      <td>NaN</td>\n",
       "      <td>3.0</td>\n",
       "      <td>1125.0</td>\n",
       "    </tr>\n",
       "  </tbody>\n",
       "</table>\n",
       "</div>"
      ],
      "text/plain": [
       "   listing_id        date available   price  adjusted_price  minimum_nights  \\\n",
       "0       11508  2025-01-30         f  $60.00             NaN             3.0   \n",
       "1       11508  2025-01-31         f  $60.00             NaN             3.0   \n",
       "2       11508  2025-02-01         f  $60.00             NaN             3.0   \n",
       "3       11508  2025-02-02         f  $60.00             NaN             3.0   \n",
       "4       11508  2025-02-03         f  $60.00             NaN             3.0   \n",
       "5       11508  2025-02-04         f  $60.00             NaN             3.0   \n",
       "6       11508  2025-02-05         f  $60.00             NaN             3.0   \n",
       "7       11508  2025-02-06         f  $60.00             NaN             3.0   \n",
       "8       11508  2025-02-07         f  $60.00             NaN             3.0   \n",
       "9       11508  2025-02-08         f  $60.00             NaN             3.0   \n",
       "\n",
       "   maximum_nights  \n",
       "0          1125.0  \n",
       "1          1125.0  \n",
       "2          1125.0  \n",
       "3          1125.0  \n",
       "4          1125.0  \n",
       "5          1125.0  \n",
       "6          1125.0  \n",
       "7          1125.0  \n",
       "8          1125.0  \n",
       "9          1125.0  "
      ]
     },
     "execution_count": 56,
     "metadata": {},
     "output_type": "execute_result"
    }
   ],
   "source": [
    "df2.head(10)"
   ]
  },
  {
   "cell_type": "markdown",
   "id": "57a24c8e-3944-4a40-95b4-b27317fe999e",
   "metadata": {},
   "source": [
    "Identifico Columnas a mantener\n",
    "\n",
    "1. listing_id\n",
    "2. date\n",
    "3. minimun_nigths"
   ]
  },
  {
   "cell_type": "markdown",
   "id": "cb560b27-696d-42c4-8299-65dce99dca81",
   "metadata": {},
   "source": [
    "Empiezo con la eliminacion"
   ]
  },
  {
   "cell_type": "code",
   "execution_count": 63,
   "id": "3e47f0fa-f684-4c53-acd8-9797e37c24a4",
   "metadata": {},
   "outputs": [],
   "source": [
    "df = df.drop(['name','host_id','host_name','neighbourhood_group','last_review','reviews_per_month','calculated_host_listings_count','availability_365','number_of_reviews_ltm','license'], axis=1)"
   ]
  },
  {
   "cell_type": "code",
   "execution_count": 65,
   "id": "7d1ab9eb-9a56-456a-a53b-d9e11989a1d1",
   "metadata": {},
   "outputs": [
    {
     "name": "stdout",
     "output_type": "stream",
     "text": [
      "<class 'pandas.core.frame.DataFrame'>\n",
      "RangeIndex: 35172 entries, 0 to 35171\n",
      "Data columns (total 8 columns):\n",
      " #   Column             Non-Null Count  Dtype  \n",
      "---  ------             --------------  -----  \n",
      " 0   id                 35172 non-null  int64  \n",
      " 1   neighbourhood      35172 non-null  object \n",
      " 2   latitude           35172 non-null  float64\n",
      " 3   longitude          35172 non-null  float64\n",
      " 4   room_type          35172 non-null  object \n",
      " 5   price              31598 non-null  float64\n",
      " 6   minimum_nights     35172 non-null  int64  \n",
      " 7   number_of_reviews  35172 non-null  int64  \n",
      "dtypes: float64(3), int64(3), object(2)\n",
      "memory usage: 2.1+ MB\n"
     ]
    }
   ],
   "source": [
    "df.info()  #viualizo"
   ]
  },
  {
   "cell_type": "markdown",
   "id": "281dc6fb-82f7-4c2d-8806-e588609594f0",
   "metadata": {},
   "source": [
    "Identifico valores nulos en el df"
   ]
  },
  {
   "cell_type": "code",
   "execution_count": 68,
   "id": "1bca531f-3b34-403c-9525-5c5184ea93d5",
   "metadata": {},
   "outputs": [
    {
     "data": {
      "text/plain": [
       "id                      0\n",
       "neighbourhood           0\n",
       "latitude                0\n",
       "longitude               0\n",
       "room_type               0\n",
       "price                3574\n",
       "minimum_nights          0\n",
       "number_of_reviews       0\n",
       "dtype: int64"
      ]
     },
     "execution_count": 68,
     "metadata": {},
     "output_type": "execute_result"
    }
   ],
   "source": [
    "df.isnull().sum()"
   ]
  },
  {
   "cell_type": "code",
   "execution_count": 70,
   "id": "17fbe823-6031-4ed9-a08d-e947aa285faa",
   "metadata": {},
   "outputs": [],
   "source": [
    "df = df.dropna()   #Los elimino"
   ]
  },
  {
   "cell_type": "code",
   "execution_count": 72,
   "id": "080e119d-02df-47f5-b7e2-33eb9aeaa736",
   "metadata": {},
   "outputs": [
    {
     "data": {
      "text/plain": [
       "id                   0\n",
       "neighbourhood        0\n",
       "latitude             0\n",
       "longitude            0\n",
       "room_type            0\n",
       "price                0\n",
       "minimum_nights       0\n",
       "number_of_reviews    0\n",
       "dtype: int64"
      ]
     },
     "execution_count": 72,
     "metadata": {},
     "output_type": "execute_result"
    }
   ],
   "source": [
    "df.isnull().sum()"
   ]
  },
  {
   "cell_type": "markdown",
   "id": "4fec4b0c-cf1f-45ba-b0ee-d7f6d1de82a7",
   "metadata": {},
   "source": [
    "Aplico lo mismo para el df2"
   ]
  },
  {
   "cell_type": "code",
   "execution_count": 75,
   "id": "98704e44-8c24-4cfc-936a-415e64e7f908",
   "metadata": {},
   "outputs": [
    {
     "name": "stdout",
     "output_type": "stream",
     "text": [
      "<class 'pandas.core.frame.DataFrame'>\n",
      "RangeIndex: 12837777 entries, 0 to 12837776\n",
      "Data columns (total 7 columns):\n",
      " #   Column          Dtype  \n",
      "---  ------          -----  \n",
      " 0   listing_id      int64  \n",
      " 1   date            object \n",
      " 2   available       object \n",
      " 3   price           object \n",
      " 4   adjusted_price  float64\n",
      " 5   minimum_nights  float64\n",
      " 6   maximum_nights  float64\n",
      "dtypes: float64(3), int64(1), object(3)\n",
      "memory usage: 685.6+ MB\n"
     ]
    }
   ],
   "source": [
    "df2.info()"
   ]
  },
  {
   "cell_type": "code",
   "execution_count": 77,
   "id": "7121a48f-ab75-4b92-ba36-e66dbc006576",
   "metadata": {},
   "outputs": [],
   "source": [
    "df2=df2.drop(['available','adjusted_price','maximum_nights'], axis=1)"
   ]
  },
  {
   "cell_type": "code",
   "execution_count": 79,
   "id": "5e1fe18e-b381-48ee-b777-0fa98f91bb80",
   "metadata": {},
   "outputs": [
    {
     "data": {
      "text/plain": [
       "listing_id         0\n",
       "date               0\n",
       "price              0\n",
       "minimum_nights    14\n",
       "dtype: int64"
      ]
     },
     "execution_count": 79,
     "metadata": {},
     "output_type": "execute_result"
    }
   ],
   "source": [
    "df2.isnull().sum()"
   ]
  },
  {
   "cell_type": "code",
   "execution_count": 81,
   "id": "6a934452-dcfb-44b8-a0b6-26654eddf4b3",
   "metadata": {},
   "outputs": [],
   "source": [
    "df2=df2.dropna()"
   ]
  },
  {
   "cell_type": "code",
   "execution_count": 83,
   "id": "82b16aba-eb8e-4082-ab38-f59c1528f317",
   "metadata": {},
   "outputs": [
    {
     "data": {
      "text/html": [
       "<div>\n",
       "<style scoped>\n",
       "    .dataframe tbody tr th:only-of-type {\n",
       "        vertical-align: middle;\n",
       "    }\n",
       "\n",
       "    .dataframe tbody tr th {\n",
       "        vertical-align: top;\n",
       "    }\n",
       "\n",
       "    .dataframe thead th {\n",
       "        text-align: right;\n",
       "    }\n",
       "</style>\n",
       "<table border=\"1\" class=\"dataframe\">\n",
       "  <thead>\n",
       "    <tr style=\"text-align: right;\">\n",
       "      <th></th>\n",
       "      <th>listing_id</th>\n",
       "      <th>date</th>\n",
       "      <th>price</th>\n",
       "      <th>minimum_nights</th>\n",
       "    </tr>\n",
       "  </thead>\n",
       "  <tbody>\n",
       "    <tr>\n",
       "      <th>0</th>\n",
       "      <td>11508</td>\n",
       "      <td>2025-01-30</td>\n",
       "      <td>$60.00</td>\n",
       "      <td>3.0</td>\n",
       "    </tr>\n",
       "    <tr>\n",
       "      <th>1</th>\n",
       "      <td>11508</td>\n",
       "      <td>2025-01-31</td>\n",
       "      <td>$60.00</td>\n",
       "      <td>3.0</td>\n",
       "    </tr>\n",
       "    <tr>\n",
       "      <th>2</th>\n",
       "      <td>11508</td>\n",
       "      <td>2025-02-01</td>\n",
       "      <td>$60.00</td>\n",
       "      <td>3.0</td>\n",
       "    </tr>\n",
       "    <tr>\n",
       "      <th>3</th>\n",
       "      <td>11508</td>\n",
       "      <td>2025-02-02</td>\n",
       "      <td>$60.00</td>\n",
       "      <td>3.0</td>\n",
       "    </tr>\n",
       "    <tr>\n",
       "      <th>4</th>\n",
       "      <td>11508</td>\n",
       "      <td>2025-02-03</td>\n",
       "      <td>$60.00</td>\n",
       "      <td>3.0</td>\n",
       "    </tr>\n",
       "  </tbody>\n",
       "</table>\n",
       "</div>"
      ],
      "text/plain": [
       "   listing_id        date   price  minimum_nights\n",
       "0       11508  2025-01-30  $60.00             3.0\n",
       "1       11508  2025-01-31  $60.00             3.0\n",
       "2       11508  2025-02-01  $60.00             3.0\n",
       "3       11508  2025-02-02  $60.00             3.0\n",
       "4       11508  2025-02-03  $60.00             3.0"
      ]
     },
     "execution_count": 83,
     "metadata": {},
     "output_type": "execute_result"
    }
   ],
   "source": [
    "df2.head()"
   ]
  },
  {
   "cell_type": "markdown",
   "id": "ef0e190a-9ed7-4c99-bb03-f94610052471",
   "metadata": {},
   "source": [
    "Le cambio el nombre a las columnas"
   ]
  },
  {
   "cell_type": "code",
   "execution_count": 86,
   "id": "d7891985-4a88-4de0-9f78-986719454c08",
   "metadata": {},
   "outputs": [],
   "source": [
    "df2=df2.set_axis(['listing_id',\t'date',\t'price2','minimum_nights'], axis=1)"
   ]
  },
  {
   "cell_type": "code",
   "execution_count": 88,
   "id": "b01c25de-2b8f-4819-bd6a-5fa10cdaadcb",
   "metadata": {},
   "outputs": [
    {
     "data": {
      "text/html": [
       "<div>\n",
       "<style scoped>\n",
       "    .dataframe tbody tr th:only-of-type {\n",
       "        vertical-align: middle;\n",
       "    }\n",
       "\n",
       "    .dataframe tbody tr th {\n",
       "        vertical-align: top;\n",
       "    }\n",
       "\n",
       "    .dataframe thead th {\n",
       "        text-align: right;\n",
       "    }\n",
       "</style>\n",
       "<table border=\"1\" class=\"dataframe\">\n",
       "  <thead>\n",
       "    <tr style=\"text-align: right;\">\n",
       "      <th></th>\n",
       "      <th>listing_id</th>\n",
       "      <th>date</th>\n",
       "      <th>price2</th>\n",
       "      <th>minimum_nights</th>\n",
       "    </tr>\n",
       "  </thead>\n",
       "  <tbody>\n",
       "    <tr>\n",
       "      <th>0</th>\n",
       "      <td>11508</td>\n",
       "      <td>2025-01-30</td>\n",
       "      <td>$60.00</td>\n",
       "      <td>3.0</td>\n",
       "    </tr>\n",
       "    <tr>\n",
       "      <th>1</th>\n",
       "      <td>11508</td>\n",
       "      <td>2025-01-31</td>\n",
       "      <td>$60.00</td>\n",
       "      <td>3.0</td>\n",
       "    </tr>\n",
       "    <tr>\n",
       "      <th>2</th>\n",
       "      <td>11508</td>\n",
       "      <td>2025-02-01</td>\n",
       "      <td>$60.00</td>\n",
       "      <td>3.0</td>\n",
       "    </tr>\n",
       "    <tr>\n",
       "      <th>3</th>\n",
       "      <td>11508</td>\n",
       "      <td>2025-02-02</td>\n",
       "      <td>$60.00</td>\n",
       "      <td>3.0</td>\n",
       "    </tr>\n",
       "    <tr>\n",
       "      <th>4</th>\n",
       "      <td>11508</td>\n",
       "      <td>2025-02-03</td>\n",
       "      <td>$60.00</td>\n",
       "      <td>3.0</td>\n",
       "    </tr>\n",
       "  </tbody>\n",
       "</table>\n",
       "</div>"
      ],
      "text/plain": [
       "   listing_id        date  price2  minimum_nights\n",
       "0       11508  2025-01-30  $60.00             3.0\n",
       "1       11508  2025-01-31  $60.00             3.0\n",
       "2       11508  2025-02-01  $60.00             3.0\n",
       "3       11508  2025-02-02  $60.00             3.0\n",
       "4       11508  2025-02-03  $60.00             3.0"
      ]
     },
     "execution_count": 88,
     "metadata": {},
     "output_type": "execute_result"
    }
   ],
   "source": [
    "df2.head()"
   ]
  },
  {
   "cell_type": "markdown",
   "id": "7f9f0473-2efe-4724-a6b8-213239c0c565",
   "metadata": {},
   "source": [
    "Le cambio el tipo de date de la columna 'date' a formate datetime"
   ]
  },
  {
   "cell_type": "code",
   "execution_count": 91,
   "id": "e0b7b1bd-7072-42ca-8e8d-889914335475",
   "metadata": {},
   "outputs": [],
   "source": [
    "df2['date']=pd.to_datetime(df2['date'])"
   ]
  },
  {
   "cell_type": "code",
   "execution_count": 92,
   "id": "af58f2b4-6490-471f-8ecd-c6ce68b340df",
   "metadata": {},
   "outputs": [
    {
     "name": "stdout",
     "output_type": "stream",
     "text": [
      "<class 'pandas.core.frame.DataFrame'>\n",
      "Index: 12837763 entries, 0 to 12837776\n",
      "Data columns (total 4 columns):\n",
      " #   Column          Dtype         \n",
      "---  ------          -----         \n",
      " 0   listing_id      int64         \n",
      " 1   date            datetime64[ns]\n",
      " 2   price2          object        \n",
      " 3   minimum_nights  float64       \n",
      "dtypes: datetime64[ns](1), float64(1), int64(1), object(1)\n",
      "memory usage: 489.7+ MB\n"
     ]
    }
   ],
   "source": [
    "df2.info()"
   ]
  },
  {
   "cell_type": "markdown",
   "id": "36071ae4-dd70-4992-b5ba-3b6bc674e001",
   "metadata": {},
   "source": [
    "Guardo Ambos DataFrame en dos archivos csv ditintos, ya listos para utilizarse en Tableau"
   ]
  },
  {
   "cell_type": "code",
   "execution_count": 155,
   "id": "d05a9516-ae93-4b26-bfba-e5db4c8fdb38",
   "metadata": {},
   "outputs": [],
   "source": [
    "df.to_csv('listing_limpio.csv')"
   ]
  },
  {
   "cell_type": "code",
   "execution_count": 157,
   "id": "dbcc6c1f-a82c-4cfd-8c6e-90f53cb3de3c",
   "metadata": {},
   "outputs": [],
   "source": [
    "df2.to_csv('calendar_limpio.csv')"
   ]
  }
 ],
 "metadata": {
  "kernelspec": {
   "display_name": "Python 3 (ipykernel)",
   "language": "python",
   "name": "python3"
  },
  "language_info": {
   "codemirror_mode": {
    "name": "ipython",
    "version": 3
   },
   "file_extension": ".py",
   "mimetype": "text/x-python",
   "name": "python",
   "nbconvert_exporter": "python",
   "pygments_lexer": "ipython3",
   "version": "3.12.7"
  }
 },
 "nbformat": 4,
 "nbformat_minor": 5
}
